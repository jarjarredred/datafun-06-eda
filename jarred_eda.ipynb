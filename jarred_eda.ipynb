{
 "cells": [
  {
   "cell_type": "markdown",
   "id": "9bf3a552",
   "metadata": {},
   "source": [
    "# Health Outcomes by Spending for Each Country\n",
    "This data exploration project explores health expectancies for each country based on their spending.\n",
    "By Jarred Gastreich"
   ]
  }
 ],
 "metadata": {
  "kernelspec": {
   "display_name": ".venv",
   "language": "python",
   "name": "python3"
  },
  "language_info": {
   "name": "python",
   "version": "3.13.3"
  }
 },
 "nbformat": 4,
 "nbformat_minor": 5
}
